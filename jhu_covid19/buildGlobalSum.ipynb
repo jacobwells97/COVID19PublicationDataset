{
 "cells": [
  {
   "cell_type": "code",
   "execution_count": null,
   "metadata": {},
   "outputs": [],
   "source": [
    "import pandas as pd\n",
    "import os\n",
    "import io\n",
    "from datetime import datetime\n",
    "\n",
    "def buildGlobalSum():\n",
    "    '''\n",
    "    Reads Johns Hopkins data to build global sums for cases, deaths, recovered for each day.\n",
    "    Stores in a pandas df with format:\n",
    "    {datetime.date: [confirmed, deaths, recovered]}\n",
    "    '''\n",
    "    # Build paths to Johns Hopkins data\n",
    "    slash = os.path.sep\n",
    "    path = os.getcwd() + slash + \"COVID-19\" + slash + \"csse_covid_19_data\" + slash + \"csse_covid_19_time_series\" + slash\n",
    "    cPath = path + \"time_series_covid19_confirmed_global.csv\"\n",
    "    dPath = path + \"time_series_covid19_deaths_global.csv\"\n",
    "    rPath = path + \"time_series_covid19_recovered_global.csv\"\n",
    "    \n",
    "    # Read JHU csv's into pandas dataframes\n",
    "    cDf = pd.read_csv(cPath)\n",
    "    dDf = pd.read_csv(dPath)\n",
    "    rDf = pd.read_csv(rPath)\n",
    "    \n",
    "    today = datetime.now().date()\n",
    "    dailySum = {}\n",
    "\n",
    "    for date in cDf:     \n",
    "        if not (date == 'Province/State' or date == 'Country/Region' or date == 'Lat' or date == 'Long'):\n",
    "            # Convert date string to datetime object\n",
    "            dateSplit = date.split('/')\n",
    "            month = dateSplit[0]\n",
    "            day = dateSplit[1]\n",
    "            year = dateSplit[2]\n",
    "            dt = datetime(int(year), int(month), int(day)).date()\n",
    "            \n",
    "            # Sum counts across all regions to get global count\n",
    "            cSumGlob = sum(cDf[date])\n",
    "            dSumGlob = sum(dDf[date])\n",
    "            rSumGlob = sum(rDf[date])\n",
    "            \n",
    "            # Log 1st row = global cases, 2nd row = global deaths, 3rd row = global recovered under current date\n",
    "            dailySum[date] = [cSumGlob, dSumGlob, rSumGlob]\n",
    "    df = pd.DataFrame(data = dailySum)\n",
    "    return df"
   ]
  }
 ],
 "metadata": {
  "kernelspec": {
   "display_name": "Python 3",
   "language": "python",
   "name": "python3"
  },
  "language_info": {
   "codemirror_mode": {
    "name": "ipython",
    "version": 3
   },
   "file_extension": ".py",
   "mimetype": "text/x-python",
   "name": "python",
   "nbconvert_exporter": "python",
   "pygments_lexer": "ipython3",
   "version": "3.7.4"
  }
 },
 "nbformat": 4,
 "nbformat_minor": 2
}
