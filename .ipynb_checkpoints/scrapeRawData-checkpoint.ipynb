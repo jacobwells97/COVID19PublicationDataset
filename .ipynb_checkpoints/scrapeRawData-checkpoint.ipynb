{
 "cells": [
  {
   "cell_type": "code",
   "execution_count": 11,
   "metadata": {},
   "outputs": [],
   "source": [
    "import csv\n",
    "import xml.etree.ElementTree as ET\n",
    "from datetime import datetime, timezone\n",
    "\n",
    "def scrapeRawData(fileName, setTag = \"\"):\n",
    "    tree = ET.parse(fileName)\n",
    "    records = tree.getroot()\n",
    "    entries = []\n",
    "\n",
    "    for result in records:\n",
    "        # Traverse headers\n",
    "        header = result.find('header')\n",
    "        infoMaster = header.find('controlInfo')\n",
    "\n",
    "        artInfo = infoMaster.find('artinfo')\n",
    "        # Get title     \n",
    "        tig = artInfo.find('tig')\n",
    "        title = tig.find('atl').text\n",
    "        \n",
    "        # Get author\n",
    "        aug = artInfo.find('aug')\n",
    "        aus = aug.findall('au')\n",
    "        authors = []\n",
    "        for au in aus:\n",
    "            authors.append(au.text)\n",
    "        \n",
    "        \n",
    "        # Get journal names\n",
    "        jInfo = infoMaster.find('jinfo')\n",
    "        journalName = jInfo.find('jtl').text\n",
    "    \n",
    "        # get language\n",
    "        language = infoMaster.find('language').text\n",
    "        \n",
    "        # Get publication info\n",
    "        pubInfo = infoMaster.find('pubinfo')\n",
    "        dt = pubInfo.find('dt')\n",
    "        att = dt.attrib\n",
    "        year = att.get('year')\n",
    "        month = att.get('month')\n",
    "        day = att.get('day')\n",
    "        # Store date info as integers in a tuple\n",
    "#         date = {'month': int(month),\n",
    "#                 'day': int(day),\n",
    "#                 'year': int(year)}\n",
    "        date = datetime(int(year), int(month), int(day))\n",
    "        \n",
    "        # Pack results into entries\n",
    "        entry = {'setTag': setTag,\n",
    "                'title': title,\n",
    "                'authors': authors,\n",
    "                'datePublished': date,\n",
    "                'authors': authors,\n",
    "                'language': language,\n",
    "                'journalName': journalName}\n",
    "        \n",
    "        entries.append(entry)\n",
    "    return entries\n",
    "\n",
    "import csv\n",
    "import io\n",
    "def writeCSV(outFileName, entries):\n",
    "    with io.open(outFileName,'w', encoding=\"utf-8\", newline = '') as out:\n",
    "        csv_out=csv.writer(out)\n",
    "    \n",
    "        csv_out.writerow(['setTag',\n",
    "                          'title',\n",
    "                          'authors',\n",
    "                          'datePublished',\n",
    "                          'authors',\n",
    "                          'language',\n",
    "                          'journalName'])\n",
    "        for entry in entries:\n",
    "            authors = '. '.join(entry['authors'])\n",
    "            row = [entry['setTag'], \n",
    "                   entry['title'], \n",
    "                   authors,\n",
    "                   entry['datePublished'],\n",
    "                   entry['language'],\n",
    "                   entry['journalName']]\n",
    "            csv_out.writerow(row)\n",
    "\n",
    "        # You can also do csv_out.writerows(data) instead of the for loop"
   ]
  },
  {
   "cell_type": "code",
   "execution_count": 10,
   "metadata": {},
   "outputs": [
    {
     "ename": "UnicodeEncodeError",
     "evalue": "'charmap' codec can't encode character '\\u2010' in position 42: character maps to <undefined>",
     "output_type": "error",
     "traceback": [
      "\u001b[1;31m---------------------------------------------------------------------------\u001b[0m",
      "\u001b[1;31mUnicodeEncodeError\u001b[0m                        Traceback (most recent call last)",
      "\u001b[1;32m<ipython-input-10-bef51503d4d6>\u001b[0m in \u001b[0;36m<module>\u001b[1;34m\u001b[0m\n\u001b[0;32m      1\u001b[0m \u001b[0mentries\u001b[0m \u001b[1;33m=\u001b[0m \u001b[0mscrapeRawData\u001b[0m\u001b[1;33m(\u001b[0m\u001b[1;34m\"rawData.xml\"\u001b[0m\u001b[1;33m,\u001b[0m \u001b[1;34m\"COVID-19\"\u001b[0m\u001b[1;33m)\u001b[0m\u001b[1;33m;\u001b[0m\u001b[1;33m\u001b[0m\u001b[1;33m\u001b[0m\u001b[0m\n\u001b[1;32m----> 2\u001b[1;33m \u001b[0mwriteCSV\u001b[0m\u001b[1;33m(\u001b[0m\u001b[1;34m'csvData.csv'\u001b[0m\u001b[1;33m,\u001b[0m \u001b[0mentries\u001b[0m\u001b[1;33m)\u001b[0m\u001b[1;33m;\u001b[0m\u001b[1;33m\u001b[0m\u001b[1;33m\u001b[0m\u001b[0m\n\u001b[0m\u001b[0;32m      3\u001b[0m \u001b[0mprint\u001b[0m\u001b[1;33m(\u001b[0m\u001b[1;34m\"scraped \"\u001b[0m\u001b[1;33m,\u001b[0m \u001b[0mlen\u001b[0m\u001b[1;33m(\u001b[0m\u001b[0mentries\u001b[0m\u001b[1;33m)\u001b[0m\u001b[1;33m,\u001b[0m \u001b[1;34m\" publications\"\u001b[0m\u001b[1;33m)\u001b[0m\u001b[1;33m\u001b[0m\u001b[1;33m\u001b[0m\u001b[0m\n\u001b[0;32m      4\u001b[0m \u001b[0mprint\u001b[0m\u001b[1;33m(\u001b[0m\u001b[0mentries\u001b[0m\u001b[1;33m)\u001b[0m\u001b[1;33m\u001b[0m\u001b[1;33m\u001b[0m\u001b[0m\n",
      "\u001b[1;32m<ipython-input-9-8d8e143ff8cf>\u001b[0m in \u001b[0;36mwriteCSV\u001b[1;34m(outFileName, entries)\u001b[0m\n\u001b[0;32m     79\u001b[0m                    \u001b[0mentry\u001b[0m\u001b[1;33m[\u001b[0m\u001b[1;34m'language'\u001b[0m\u001b[1;33m]\u001b[0m\u001b[1;33m,\u001b[0m\u001b[1;33m\u001b[0m\u001b[1;33m\u001b[0m\u001b[0m\n\u001b[0;32m     80\u001b[0m                    entry['journalName']]\n\u001b[1;32m---> 81\u001b[1;33m             \u001b[0mcsv_out\u001b[0m\u001b[1;33m.\u001b[0m\u001b[0mwriterow\u001b[0m\u001b[1;33m(\u001b[0m\u001b[0mrow\u001b[0m\u001b[1;33m)\u001b[0m\u001b[1;33m\u001b[0m\u001b[1;33m\u001b[0m\u001b[0m\n\u001b[0m\u001b[0;32m     82\u001b[0m \u001b[1;33m\u001b[0m\u001b[0m\n\u001b[0;32m     83\u001b[0m         \u001b[1;31m# You can also do csv_out.writerows(data) instead of the for loop\u001b[0m\u001b[1;33m\u001b[0m\u001b[1;33m\u001b[0m\u001b[1;33m\u001b[0m\u001b[0m\n",
      "\u001b[1;32m~\\Anaconda3\\lib\\encodings\\cp1252.py\u001b[0m in \u001b[0;36mencode\u001b[1;34m(self, input, final)\u001b[0m\n\u001b[0;32m     17\u001b[0m \u001b[1;32mclass\u001b[0m \u001b[0mIncrementalEncoder\u001b[0m\u001b[1;33m(\u001b[0m\u001b[0mcodecs\u001b[0m\u001b[1;33m.\u001b[0m\u001b[0mIncrementalEncoder\u001b[0m\u001b[1;33m)\u001b[0m\u001b[1;33m:\u001b[0m\u001b[1;33m\u001b[0m\u001b[1;33m\u001b[0m\u001b[0m\n\u001b[0;32m     18\u001b[0m     \u001b[1;32mdef\u001b[0m \u001b[0mencode\u001b[0m\u001b[1;33m(\u001b[0m\u001b[0mself\u001b[0m\u001b[1;33m,\u001b[0m \u001b[0minput\u001b[0m\u001b[1;33m,\u001b[0m \u001b[0mfinal\u001b[0m\u001b[1;33m=\u001b[0m\u001b[1;32mFalse\u001b[0m\u001b[1;33m)\u001b[0m\u001b[1;33m:\u001b[0m\u001b[1;33m\u001b[0m\u001b[1;33m\u001b[0m\u001b[0m\n\u001b[1;32m---> 19\u001b[1;33m         \u001b[1;32mreturn\u001b[0m \u001b[0mcodecs\u001b[0m\u001b[1;33m.\u001b[0m\u001b[0mcharmap_encode\u001b[0m\u001b[1;33m(\u001b[0m\u001b[0minput\u001b[0m\u001b[1;33m,\u001b[0m\u001b[0mself\u001b[0m\u001b[1;33m.\u001b[0m\u001b[0merrors\u001b[0m\u001b[1;33m,\u001b[0m\u001b[0mencoding_table\u001b[0m\u001b[1;33m)\u001b[0m\u001b[1;33m[\u001b[0m\u001b[1;36m0\u001b[0m\u001b[1;33m]\u001b[0m\u001b[1;33m\u001b[0m\u001b[1;33m\u001b[0m\u001b[0m\n\u001b[0m\u001b[0;32m     20\u001b[0m \u001b[1;33m\u001b[0m\u001b[0m\n\u001b[0;32m     21\u001b[0m \u001b[1;32mclass\u001b[0m \u001b[0mIncrementalDecoder\u001b[0m\u001b[1;33m(\u001b[0m\u001b[0mcodecs\u001b[0m\u001b[1;33m.\u001b[0m\u001b[0mIncrementalDecoder\u001b[0m\u001b[1;33m)\u001b[0m\u001b[1;33m:\u001b[0m\u001b[1;33m\u001b[0m\u001b[1;33m\u001b[0m\u001b[0m\n",
      "\u001b[1;31mUnicodeEncodeError\u001b[0m: 'charmap' codec can't encode character '\\u2010' in position 42: character maps to <undefined>"
     ]
    }
   ],
   "source": [
    "entries = scrapeRawData(\"rawData.xml\", \"COVID-19\");\n",
    "writeCSV('csvData.csv', entries);\n",
    "print(\"scraped \", len(entries), \" publications\")\n",
    "print(entries)"
   ]
  },
  {
   "cell_type": "code",
   "execution_count": null,
   "metadata": {},
   "outputs": [],
   "source": []
  }
 ],
 "metadata": {
  "kernelspec": {
   "display_name": "Python 3",
   "language": "python",
   "name": "python3"
  },
  "language_info": {
   "codemirror_mode": {
    "name": "ipython",
    "version": 3
   },
   "file_extension": ".py",
   "mimetype": "text/x-python",
   "name": "python",
   "nbconvert_exporter": "python",
   "pygments_lexer": "ipython3",
   "version": "3.7.4"
  }
 },
 "nbformat": 4,
 "nbformat_minor": 2
}
