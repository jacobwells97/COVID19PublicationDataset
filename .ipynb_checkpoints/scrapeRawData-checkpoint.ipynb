{
 "cells": [
  {
   "cell_type": "code",
   "execution_count": 11,
   "metadata": {},
   "outputs": [],
   "source": [
    "import csv\n",
    "import xml.etree.ElementTree as ET\n",
    "from datetime import datetime, timezone, timedelta\n",
    "\n",
    "def scrapeRawData(fileName, setTag = \"\"):\n",
    "    tree = ET.parse(fileName)\n",
    "    records = tree.getroot()\n",
    "    entries = []\n",
    "\n",
    "    for result in records:\n",
    "        # Traverse headers\n",
    "        header = result.find('header')\n",
    "        infoMaster = header.find('controlInfo')\n",
    "\n",
    "        artInfo = infoMaster.find('artinfo')\n",
    "        # Get title     \n",
    "        tig = artInfo.find('tig')\n",
    "        title = tig.find('atl').text\n",
    "        \n",
    "        # Get author\n",
    "        aug = artInfo.find('aug')\n",
    "        aus = aug.findall('au')\n",
    "        authors = []\n",
    "        for au in aus:\n",
    "            authors.append(au.text)\n",
    "        \n",
    "        \n",
    "        # Get journal names\n",
    "        jInfo = infoMaster.find('jinfo')\n",
    "        journalName = jInfo.find('jtl').text\n",
    "    \n",
    "        # get language\n",
    "        language = infoMaster.find('language').text\n",
    "        \n",
    "        # Get publication info\n",
    "        pubInfo = infoMaster.find('pubinfo')\n",
    "        dt = pubInfo.find('dt')\n",
    "        att = dt.attrib\n",
    "        year = att.get('year')\n",
    "        month = att.get('month')\n",
    "        day = att.get('day')\n",
    "        date = datetime(int(year), int(month), int(day))\n",
    "        \n",
    "        # Pack results into entries\n",
    "        entry = {'setTag': setTag,\n",
    "                'title': title,\n",
    "                'authors': authors,\n",
    "                'datePublished': date,\n",
    "                'authors': authors,\n",
    "                'language': language,\n",
    "                'journalName': journalName}\n",
    "        \n",
    "        entries.append(entry)\n",
    "    return entries\n",
    "\n",
    "import csv\n",
    "import io\n",
    "def writeCSV(outFileName, entries):\n",
    "    with io.open(outFileName,'w', encoding=\"utf-8\", newline = '') as out:\n",
    "        csv_out=csv.writer(out)\n",
    "    \n",
    "        csv_out.writerow(['setTag',\n",
    "                          'title',\n",
    "                          'authors',\n",
    "                          'datePublished',\n",
    "                          'language',\n",
    "                          'journalName'])\n",
    "        for entry in entries:\n",
    "            authors = '. '.join(entry['authors'])\n",
    "            row = [entry['setTag'], \n",
    "                   entry['title'], \n",
    "                   authors,\n",
    "                   entry['datePublished'],\n",
    "                   entry['language'],\n",
    "                   entry['journalName']]\n",
    "            csv_out.writerow(row)\n",
    "\n",
    "import matplotlib.dates as dates\n",
    "import matplotlib.pyplot as plt\n",
    "def buildDailyPublishCount(entries):\n",
    "    # Build sum by date\n",
    "    dailyCount = {}\n",
    "    for entry in entries:\n",
    "        # Get the current date\n",
    "        date = entry['datePublished']\n",
    "        \n",
    "        # Intiialize a sum if necessary\n",
    "        if not date in dailyCount:\n",
    "            dailyCount[date] = 0\n",
    "            \n",
    "        # Add to the daily sum\n",
    "        dailyCount[date] += 1 \n",
    "\n",
    "    return dailyCount\n",
    "def plotDayData(dayData, ylabel=\"Data\", xlabel=\"Date\", title=\"Daily Data\", showToday = True, dayLimiter = 30):\n",
    "    today = datetime.now()\n",
    "\n",
    "    days = list(dayData.keys())\n",
    "    values = list(dayData.values())\n",
    "    # Plot result\n",
    "    plt.plot_date(days, values, fmt=\"bo\", tz=None, xdate=True)\n",
    "    if(showToday):\n",
    "        plt.axvline(x=today, color = \"red\", label = \"today\")\n",
    "    axes = plt.gca()\n",
    "    axes.set_xlim([min(days), today + timedelta(days=dayLimiter)])\n",
    "    plt.xlabel(\"Date\")\n",
    "    plt.ylabel(\"No. publications per day\")\n",
    "    plt.title(\"COVID-19 Publications per Day\")\n",
    "    plt.show()\n",
    "def buildDailyPublishSum(dailyCount):\n",
    "    dailySum = {}\n",
    "    # For each day\n",
    "    for date in dailyCount:\n",
    "        # Sum all previous day counts\n",
    "        for prevDate in dailyCount:\n",
    "            # If this date is before or on the current date, \n",
    "            if prevDate <= date:\n",
    "                # Initialize if necessary and add to sum\n",
    "                if not date in dailySum:\n",
    "                    dailySum[date] = 0\n",
    "                dailySum[date] += dailyCount[prevDate]\n",
    "    return dailySum"
   ]
  },
  {
   "cell_type": "code",
   "execution_count": 12,
   "metadata": {},
   "outputs": [
    {
     "name": "stdout",
     "output_type": "stream",
     "text": [
      "scraped  2196  publications\n"
     ]
    },
    {
     "data": {
      "image/png": "[encoded data removed]",
      "text/plain": [
       "<Figure size 432x288 with 1 Axes>"
      ]
     },
     "metadata": {
      "needs_background": "light"
     },
     "output_type": "display_data"
    },
    {
     "name": "stdout",
     "output_type": "stream",
     "text": [
      "{datetime.datetime(2019, 11, 1, 0, 0): 2, datetime.datetime(2019, 12, 1, 0, 0): 3, datetime.datetime(2020, 1, 1, 0, 0): 49, datetime.datetime(2020, 1, 24, 0, 0): 50, datetime.datetime(2020, 1, 28, 0, 0): 51, datetime.datetime(2020, 1, 29, 0, 0): 52, datetime.datetime(2020, 1, 31, 0, 0): 55, datetime.datetime(2020, 2, 1, 0, 0): 129, datetime.datetime(2020, 2, 2, 0, 0): 131, datetime.datetime(2020, 2, 3, 0, 0): 132, datetime.datetime(2020, 2, 4, 0, 0): 134, datetime.datetime(2020, 2, 5, 0, 0): 142, datetime.datetime(2020, 2, 6, 0, 0): 144, datetime.datetime(2020, 2, 7, 0, 0): 151, datetime.datetime(2020, 2, 8, 0, 0): 155, datetime.datetime(2020, 2, 10, 0, 0): 157, datetime.datetime(2020, 2, 11, 0, 0): 162, datetime.datetime(2020, 2, 12, 0, 0): 168, datetime.datetime(2020, 2, 13, 0, 0): 171, datetime.datetime(2020, 2, 14, 0, 0): 181, datetime.datetime(2020, 2, 15, 0, 0): 192, datetime.datetime(2020, 2, 16, 0, 0): 195, datetime.datetime(2020, 2, 17, 0, 0): 200, datetime.datetime(2020, 2, 18, 0, 0): 203, datetime.datetime(2020, 2, 19, 0, 0): 213, datetime.datetime(2020, 2, 20, 0, 0): 227, datetime.datetime(2020, 2, 21, 0, 0): 241, datetime.datetime(2020, 2, 22, 0, 0): 252, datetime.datetime(2020, 2, 24, 0, 0): 268, datetime.datetime(2020, 2, 25, 0, 0): 281, datetime.datetime(2020, 2, 26, 0, 0): 297, datetime.datetime(2020, 2, 27, 0, 0): 320, datetime.datetime(2020, 2, 28, 0, 0): 349, datetime.datetime(2020, 2, 29, 0, 0): 368, datetime.datetime(2020, 3, 1, 0, 0): 561, datetime.datetime(2020, 3, 2, 0, 0): 579, datetime.datetime(2020, 3, 3, 0, 0): 608, datetime.datetime(2020, 3, 4, 0, 0): 633, datetime.datetime(2020, 3, 5, 0, 0): 658, datetime.datetime(2020, 3, 6, 0, 0): 677, datetime.datetime(2020, 3, 7, 0, 0): 686, datetime.datetime(2020, 3, 8, 0, 0): 695, datetime.datetime(2020, 3, 9, 0, 0): 713, datetime.datetime(2020, 3, 10, 0, 0): 735, datetime.datetime(2020, 3, 11, 0, 0): 777, datetime.datetime(2020, 3, 12, 0, 0): 827, datetime.datetime(2020, 3, 13, 0, 0): 871, datetime.datetime(2020, 3, 14, 0, 0): 894, datetime.datetime(2020, 3, 15, 0, 0): 910, datetime.datetime(2020, 3, 16, 0, 0): 951, datetime.datetime(2020, 3, 17, 0, 0): 998, datetime.datetime(2020, 3, 18, 0, 0): 1035, datetime.datetime(2020, 3, 19, 0, 0): 1083, datetime.datetime(2020, 3, 20, 0, 0): 1156, datetime.datetime(2020, 3, 21, 0, 0): 1180, datetime.datetime(2020, 3, 22, 0, 0): 1182, datetime.datetime(2020, 3, 23, 0, 0): 1239, datetime.datetime(2020, 3, 24, 0, 0): 1291, datetime.datetime(2020, 3, 25, 0, 0): 1353, datetime.datetime(2020, 3, 26, 0, 0): 1424, datetime.datetime(2020, 3, 27, 0, 0): 1511, datetime.datetime(2020, 3, 28, 0, 0): 1550, datetime.datetime(2020, 3, 29, 0, 0): 1567, datetime.datetime(2020, 3, 30, 0, 0): 1653, datetime.datetime(2020, 3, 31, 0, 0): 1764, datetime.datetime(2020, 4, 1, 0, 0): 1987, datetime.datetime(2020, 4, 2, 0, 0): 2057, datetime.datetime(2020, 4, 3, 0, 0): 2126, datetime.datetime(2020, 4, 4, 0, 0): 2140, datetime.datetime(2020, 4, 6, 0, 0): 2145, datetime.datetime(2020, 4, 7, 0, 0): 2147, datetime.datetime(2020, 4, 10, 0, 0): 2149, datetime.datetime(2020, 4, 14, 0, 0): 2150, datetime.datetime(2020, 4, 15, 0, 0): 2153, datetime.datetime(2020, 4, 23, 0, 0): 2154, datetime.datetime(2020, 5, 1, 0, 0): 2177, datetime.datetime(2020, 5, 4, 0, 0): 2178, datetime.datetime(2020, 5, 17, 0, 0): 2180, datetime.datetime(2020, 5, 25, 0, 0): 2184, datetime.datetime(2020, 6, 17, 0, 0): 2188, datetime.datetime(2020, 7, 1, 0, 0): 2189, datetime.datetime(2020, 12, 1, 0, 0): 2196}\n"
     ]
    }
   ],
   "source": [
    "entries = scrapeRawData(\"rawData.xml\", \"COVID-19\");\n",
    "writeCSV('csvData.csv', entries);\n",
    "print(\"scraped \", len(entries), \" publications\")\n",
    "\n",
    "dailyCount = buildDailyPublishCount(entries)\n",
    "plotDayData(dailyCount, ylabel = \"No. publications per day\", xlabel = \"Date\", title = \"COVID-19 Publications per day\");\n",
    "dailySum = buildDailyPublishSum(dailyCount)\n",
    "print(dailySum)"
   ]
  },
  {
   "cell_type": "code",
   "execution_count": null,
   "metadata": {},
   "outputs": [],
   "source": []
  }
 ],
 "metadata": {
  "kernelspec": {
   "display_name": "Python 3",
   "language": "python",
   "name": "python3"
  },
  "language_info": {
   "codemirror_mode": {
    "name": "ipython",
    "version": 3
   },
   "file_extension": ".py",
   "mimetype": "text/x-python",
   "name": "python",
   "nbconvert_exporter": "python",
   "pygments_lexer": "ipython3",
   "version": "3.7.4"
  }
 },
 "nbformat": 4,
 "nbformat_minor": 2
}
