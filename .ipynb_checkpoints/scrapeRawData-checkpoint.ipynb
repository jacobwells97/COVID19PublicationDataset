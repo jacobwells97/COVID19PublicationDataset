{
 "cells": [
  {
   "cell_type": "code",
   "execution_count": null,
   "metadata": {},
   "outputs": [],
   "source": [
    "def scrapeRawData(fileName):\n",
    "NS = 'http://www.topografix.com/GPX/1/1'\n",
    "header = ('lat', 'lon', 'ele', 'time')\n",
    "\n",
    "with open('output.csv', 'w') as f:\n",
    "    writer = csv.writer(f)\n",
    "    writer.writerow(header)\n",
    "    root = lxml.etree.fromstring(x)\n",
    "    for trkpt in root.iter('{%s}trkpt' % NS):\n",
    "        lat = trkpt.get('lat')\n",
    "        lon = trkpt.get('lon')\n",
    "        ele = trkpt.find('{%s}ele' % NS).text\n",
    "        time = trkpt.find('{%s}time' % NS).text\n",
    "\n",
    "        row = lat, lon, ele, time\n",
    "        writer.writerow(row)\n"
   ]
  },
  {
   "cell_type": "code",
   "execution_count": null,
   "metadata": {},
   "outputs": [],
   "source": [
    "scrapeRawData(\"rawData.xml\");"
   ]
  }
 ],
 "metadata": {
  "kernelspec": {
   "display_name": "Python 3",
   "language": "python",
   "name": "python3"
  },
  "language_info": {
   "codemirror_mode": {
    "name": "ipython",
    "version": 3
   },
   "file_extension": ".py",
   "mimetype": "text/x-python",
   "name": "python",
   "nbconvert_exporter": "python",
   "pygments_lexer": "ipython3",
   "version": "3.7.4"
  }
 },
 "nbformat": 4,
 "nbformat_minor": 2
}
